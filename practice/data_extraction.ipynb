{
 "cells": [
  {
   "cell_type": "code",
   "execution_count": null,
   "id": "66c4d090",
   "metadata": {},
   "outputs": [],
   "source": []
  },
  {
   "cell_type": "code",
   "execution_count": 5,
   "id": "cd926b19",
   "metadata": {},
   "outputs": [
    {
     "name": "stderr",
     "output_type": "stream",
     "text": [
      "C:\\Users\\Administrator\\AppData\\Local\\Temp\\ipykernel_25176\\1137989768.py:1: DtypeWarning: Columns (7) have mixed types. Specify dtype option on import or set low_memory=False.\n",
      "  df = pd.read_csv(r\"C:\\Users\\Administrator\\OneDrive\\Desktop\\SalesAI\\data\\raw\\rossmann-store-sales\\rossman-store.csv\")\n"
     ]
    }
   ],
   "source": [
    "df = pd.read_csv(r\"C:\\Users\\Administrator\\OneDrive\\Desktop\\SalesAI\\data\\raw\\rossmann-store-sales\\rossman-store.csv\")"
   ]
  },
  {
   "cell_type": "code",
   "execution_count": 6,
   "id": "dbd75f2f",
   "metadata": {},
   "outputs": [
    {
     "data": {
      "text/plain": [
       "Index(['Store', 'DayOfWeek', 'Date', 'Sales', 'Customers', 'Open', 'Promo',\n",
       "       'StateHoliday', 'SchoolHoliday', 'StoreType', 'Assortment',\n",
       "       'CompetitionDistance', 'CompetitionOpenSinceMonth',\n",
       "       'CompetitionOpenSinceYear', 'Promo2', 'Promo2SinceWeek',\n",
       "       'Promo2SinceYear', 'PromoInterval'],\n",
       "      dtype='object')"
      ]
     },
     "execution_count": 6,
     "metadata": {},
     "output_type": "execute_result"
    }
   ],
   "source": [
    "df.columns"
   ]
  },
  {
   "cell_type": "code",
   "execution_count": 7,
   "metadata": {},
   "outputs": [
    {
     "name": "stderr",
     "output_type": "stream",
     "text": [
      "C:\\Users\\Administrator\\AppData\\Local\\Temp\\ipykernel_2600\\2037587872.py:1: DtypeWarning: Columns (7) have mixed types. Specify dtype option on import or set low_memory=False.\n",
      "  train = pd.read_csv(r'C:\\Users\\Administrator\\OneDrive\\Desktop\\SalesAI\\data\\raw\\rossmann-store-sales\\train.csv', parse_dates=['Date'])\n"
     ]
    }
   ],
   "source": [
    "train = pd.read_csv(r'C:\\Users\\Administrator\\OneDrive\\Desktop\\SalesAI\\data\\raw\\rossmann-store-sales\\train.csv', parse_dates=['Date'])\n",
    "store = pd.read_csv(r'C:\\Users\\Administrator\\OneDrive\\Desktop\\SalesAI\\data\\raw\\rossmann-store-sales\\store.csv')"
   ]
  },
  {
   "cell_type": "code",
   "execution_count": 8,
   "metadata": {},
   "outputs": [],
   "source": [
    "train = pd.merge(train, store, on='Store', how='left')\n"
   ]
  },
  {
   "cell_type": "code",
   "execution_count": 9,
   "id": "f5978e5f",
   "metadata": {},
   "outputs": [],
   "source": [
    "train.to_csv('rossman-store.csv', index=False)"
   ]
  },
  {
   "cell_type": "code",
   "execution_count": 2,
   "id": "b02604e8",
   "metadata": {},
   "outputs": [],
   "source": [
    "import pandas as pd"
   ]
  },
  {
   "cell_type": "code",
   "execution_count": 8,
   "id": "f542ad0b",
   "metadata": {},
   "outputs": [
    {
     "data": {
      "text/plain": [
       "'c:\\\\Users\\\\Administrator\\\\OneDrive\\\\Desktop\\\\SalesAI'"
      ]
     },
     "execution_count": 8,
     "metadata": {},
     "output_type": "execute_result"
    }
   ],
   "source": [
    "pwd"
   ]
  },
  {
   "cell_type": "code",
   "execution_count": null,
   "id": "91822d08",
   "metadata": {},
   "outputs": [],
   "source": [
    "df_events = pd.read_parquet(\"tmp\\sales_data\\store_events\\events.parquet\")\n",
    "df_traffic = pd.read_parquet(r\"C:\\Users\\Administrator\\OneDrive\\Desktop\\SalesAI\\tmp\\sales_data\\customer_traffic\\year=2023\\month=01\\day=01\\traffic_2023-01-01.parquet\")\n",
    "df_inventory = pd.read_parquet"
   ]
  },
  {
   "cell_type": "code",
   "execution_count": 11,
   "id": "5fde486a",
   "metadata": {},
   "outputs": [
    {
     "data": {
      "text/html": [
       "<div>\n",
       "<style scoped>\n",
       "    .dataframe tbody tr th:only-of-type {\n",
       "        vertical-align: middle;\n",
       "    }\n",
       "\n",
       "    .dataframe tbody tr th {\n",
       "        vertical-align: top;\n",
       "    }\n",
       "\n",
       "    .dataframe thead th {\n",
       "        text-align: right;\n",
       "    }\n",
       "</style>\n",
       "<table border=\"1\" class=\"dataframe\">\n",
       "  <thead>\n",
       "    <tr style=\"text-align: right;\">\n",
       "      <th></th>\n",
       "      <th>store_id</th>\n",
       "      <th>date</th>\n",
       "      <th>event_type</th>\n",
       "      <th>impact</th>\n",
       "    </tr>\n",
       "  </thead>\n",
       "  <tbody>\n",
       "    <tr>\n",
       "      <th>0</th>\n",
       "      <td>store_001</td>\n",
       "      <td>2023-01-01</td>\n",
       "      <td>closure</td>\n",
       "      <td>-1.0</td>\n",
       "    </tr>\n",
       "    <tr>\n",
       "      <th>1</th>\n",
       "      <td>store_001</td>\n",
       "      <td>2023-04-02</td>\n",
       "      <td>closure</td>\n",
       "      <td>-1.0</td>\n",
       "    </tr>\n",
       "    <tr>\n",
       "      <th>2</th>\n",
       "      <td>store_001</td>\n",
       "      <td>2023-07-02</td>\n",
       "      <td>closure</td>\n",
       "      <td>-1.0</td>\n",
       "    </tr>\n",
       "    <tr>\n",
       "      <th>3</th>\n",
       "      <td>store_001</td>\n",
       "      <td>2023-10-01</td>\n",
       "      <td>closure</td>\n",
       "      <td>-1.0</td>\n",
       "    </tr>\n",
       "    <tr>\n",
       "      <th>4</th>\n",
       "      <td>store_001</td>\n",
       "      <td>2023-12-31</td>\n",
       "      <td>closure</td>\n",
       "      <td>-1.0</td>\n",
       "    </tr>\n",
       "    <tr>\n",
       "      <th>...</th>\n",
       "      <td>...</td>\n",
       "      <td>...</td>\n",
       "      <td>...</td>\n",
       "      <td>...</td>\n",
       "    </tr>\n",
       "    <tr>\n",
       "      <th>69</th>\n",
       "      <td>store_010</td>\n",
       "      <td>2023-01-01</td>\n",
       "      <td>closure</td>\n",
       "      <td>-1.0</td>\n",
       "    </tr>\n",
       "    <tr>\n",
       "      <th>70</th>\n",
       "      <td>store_010</td>\n",
       "      <td>2023-04-02</td>\n",
       "      <td>closure</td>\n",
       "      <td>-1.0</td>\n",
       "    </tr>\n",
       "    <tr>\n",
       "      <th>71</th>\n",
       "      <td>store_010</td>\n",
       "      <td>2023-07-02</td>\n",
       "      <td>closure</td>\n",
       "      <td>-1.0</td>\n",
       "    </tr>\n",
       "    <tr>\n",
       "      <th>72</th>\n",
       "      <td>store_010</td>\n",
       "      <td>2023-10-01</td>\n",
       "      <td>closure</td>\n",
       "      <td>-1.0</td>\n",
       "    </tr>\n",
       "    <tr>\n",
       "      <th>73</th>\n",
       "      <td>store_010</td>\n",
       "      <td>2023-12-31</td>\n",
       "      <td>closure</td>\n",
       "      <td>-1.0</td>\n",
       "    </tr>\n",
       "  </tbody>\n",
       "</table>\n",
       "<p>74 rows × 4 columns</p>\n",
       "</div>"
      ],
      "text/plain": [
       "     store_id       date event_type  impact\n",
       "0   store_001 2023-01-01    closure    -1.0\n",
       "1   store_001 2023-04-02    closure    -1.0\n",
       "2   store_001 2023-07-02    closure    -1.0\n",
       "3   store_001 2023-10-01    closure    -1.0\n",
       "4   store_001 2023-12-31    closure    -1.0\n",
       "..        ...        ...        ...     ...\n",
       "69  store_010 2023-01-01    closure    -1.0\n",
       "70  store_010 2023-04-02    closure    -1.0\n",
       "71  store_010 2023-07-02    closure    -1.0\n",
       "72  store_010 2023-10-01    closure    -1.0\n",
       "73  store_010 2023-12-31    closure    -1.0\n",
       "\n",
       "[74 rows x 4 columns]"
      ]
     },
     "execution_count": 11,
     "metadata": {},
     "output_type": "execute_result"
    }
   ],
   "source": [
    "df_events"
   ]
  },
  {
   "cell_type": "code",
   "execution_count": null,
   "id": "a12dfca3",
   "metadata": {},
   "outputs": [],
   "source": []
  },
  {
   "cell_type": "code",
   "execution_count": null,
   "id": "cded3a25",
   "metadata": {},
   "outputs": [],
   "source": []
  },
  {
   "cell_type": "code",
   "execution_count": null,
   "id": "5c291fa3",
   "metadata": {},
   "outputs": [],
   "source": []
  },
  {
   "cell_type": "code",
   "execution_count": null,
   "id": "98bfadb0",
   "metadata": {},
   "outputs": [],
   "source": []
  }
 ],
 "metadata": {
  "kernelspec": {
   "display_name": "salesenv",
   "language": "python",
   "name": "python3"
  },
  "language_info": {
   "codemirror_mode": {
    "name": "ipython",
    "version": 3
   },
   "file_extension": ".py",
   "mimetype": "text/x-python",
   "name": "python",
   "nbconvert_exporter": "python",
   "pygments_lexer": "ipython3",
   "version": "3.10.18"
  }
 },
 "nbformat": 4,
 "nbformat_minor": 5
}
